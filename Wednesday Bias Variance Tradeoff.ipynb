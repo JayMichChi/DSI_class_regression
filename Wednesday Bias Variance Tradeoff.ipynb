{
 "cells": [
  {
   "cell_type": "code",
   "execution_count": 6,
   "metadata": {
    "collapsed": true
   },
   "outputs": [],
   "source": [
    "\n",
    "# Bias Variance Tradeoff\n",
    "# In this notebook we investigate the bias and variance of models. In the first section we'll investigate fitting functions of the form:\n",
    "# $$f(x) = a + b * x^n$$\n",
    "# to some cubic data with noise.\n",
    "# In [ ]:\n",
    "\n",
    "% matplotlib inline\n",
    "from __future__ import print_function\n",
    "import random\n",
    "\n",
    "from matplotlib import pyplot as plt\n",
    "import numpy as np\n",
    "import pandas as pd\n",
    "from scipy import stats\n",
    "\n",
    "# from sklearn import datasets, linear_model\n",
    "import statsmodels.api as sm"
   ]
  },
  {
   "cell_type": "code",
   "execution_count": 9,
   "metadata": {
    "collapsed": false
   },
   "outputs": [],
   "source": [
    "def polynomials(X, degree=1):\n",
    "    # See also numpy.vander\n",
    "    array = [X]\n",
    "    y = X\n",
    "    for i in range(2, int(degree + 1)):\n",
    "        y = y * X\n",
    "        array.append(y)\n",
    "    return np.array(array).transpose()\n",
    "\n"
   ]
  },
  {
   "cell_type": "code",
   "execution_count": 11,
   "metadata": {
    "collapsed": false
   },
   "outputs": [],
   "source": [
    "X = np.array(range(3))\n",
    "# polynomials(X, 3)"
   ]
  },
  {
   "cell_type": "code",
   "execution_count": 12,
   "metadata": {
    "collapsed": false
   },
   "outputs": [
    {
     "data": {
      "text/plain": [
       "array([[   0,    0,    0,    0,    0,    0,    0,    0,    0,    0],\n",
       "       [   1,    1,    1,    1,    1,    1,    1,    1,    1,    1],\n",
       "       [   2,    4,    8,   16,   32,   64,  128,  256,  512, 1024]])"
      ]
     },
     "execution_count": 12,
     "metadata": {},
     "output_type": "execute_result"
    }
   ],
   "source": [
    "polynomials(X, 10)"
   ]
  },
  {
   "cell_type": "code",
   "execution_count": 13,
   "metadata": {
    "collapsed": true
   },
   "outputs": [],
   "source": [
    "def monomials(X, degree=1):\n",
    "    y = np.array(X)\n",
    "    y = np.power(X, degree)\n",
    "    return np.array([y]).transpose()\n",
    "\n"
   ]
  },
  {
   "cell_type": "code",
   "execution_count": 15,
   "metadata": {
    "collapsed": false
   },
   "outputs": [
    {
     "data": {
      "text/plain": [
       "array([[0],\n",
       "       [1],\n",
       "       [8]])"
      ]
     },
     "execution_count": 15,
     "metadata": {},
     "output_type": "execute_result"
    }
   ],
   "source": [
    "monomials(X, 3)"
   ]
  },
  {
   "cell_type": "code",
   "execution_count": 17,
   "metadata": {
    "collapsed": true
   },
   "outputs": [],
   "source": [
    "def generate_data(func, a, b, n=100):\n",
    "    data = []\n",
    "    for _ in range(n):\n",
    "        x = random.random() * (b - a)\n",
    "        y = func(x)\n",
    "        data.append((x, y))\n",
    "    return list(sorted(data))"
   ]
  },
  {
   "cell_type": "code",
   "execution_count": 23,
   "metadata": {
    "collapsed": false
   },
   "outputs": [
    {
     "data": {
      "text/plain": [
       "[(0.18173022773516845, 4.7517805223605345),\n",
       " (0.44452813480657927, 5.5500833606122315),\n",
       " (0.51577526331232, 5.814590009695601),\n",
       " (0.5363762398540737, 5.969965664110437),\n",
       " (0.5385807369718403, 5.80094036288006),\n",
       " (0.5620560591774901, 5.956284775269423),\n",
       " (0.6008879949811268, 5.873350929743917),\n",
       " (0.6772788651415509, 5.989956227686124),\n",
       " (0.8317491181073409, 6.131440016414837),\n",
       " (1.0024091345619663, 5.900280380152262),\n",
       " (1.0305737865520634, 6.134814893618218),\n",
       " (1.3218546089796128, 5.6736078435033725),\n",
       " (1.3780907504118742, 5.442108935586376),\n",
       " (1.389392232886649, 5.474017760078393),\n",
       " (1.4437265953917895, 5.375855483337946),\n",
       " (1.6210060811742724, 4.869008784648153),\n",
       " (1.6829253395730868, 4.438570570646131),\n",
       " (1.7537672913047488, 3.9827255888623063),\n",
       " (1.7573293279930815, 3.8935457382794914),\n",
       " (1.9162811946234581, 3.228561249258563)]"
      ]
     },
     "execution_count": 23,
     "metadata": {},
     "output_type": "execute_result"
    }
   ],
   "source": [
    "mu, sigma = 0, 0.1 # mean and standard deviation\n",
    "# norm = np.random.normal(mu, sigma)\n",
    "\n",
    "# Generate some data\n",
    "f = lambda x: 4 + 5 * x - 3 * x*x + 0.1 * x * x * x + np.random.normal(mu, sigma)\n",
    "data = generate_data(f, 0, 2, n=20)\n",
    "data"
   ]
  },
  {
   "cell_type": "code",
   "execution_count": 26,
   "metadata": {
    "collapsed": false
   },
   "outputs": [
    {
     "name": "stdout",
     "output_type": "stream",
     "text": [
      "                            OLS Regression Results                            \n",
      "==============================================================================\n",
      "Dep. Variable:                      y   R-squared:                       0.705\n",
      "Model:                            OLS   Adj. R-squared:                  0.690\n",
      "Method:                 Least Squares   F-statistic:                     45.42\n",
      "Date:                Wed, 12 Oct 2016   Prob (F-statistic):           1.94e-06\n",
      "Time:                        10:45:08   Log-Likelihood:                -49.806\n",
      "No. Observations:                  20   AIC:                             101.6\n",
      "Df Residuals:                      19   BIC:                             102.6\n",
      "Df Model:                           1                                         \n",
      "Covariance Type:            nonrobust                                         \n",
      "==============================================================================\n",
      "                 coef    std err          t      P>|t|      [95.0% Conf. Int.]\n",
      "------------------------------------------------------------------------------\n",
      "x1             3.8197      0.567      6.739      0.000         2.633     5.006\n",
      "==============================================================================\n",
      "Omnibus:                        3.196   Durbin-Watson:                   0.047\n",
      "Prob(Omnibus):                  0.202   Jarque-Bera (JB):                2.027\n",
      "Skew:                          -0.571   Prob(JB):                        0.363\n",
      "Kurtosis:                       1.938   Cond. No.                         1.00\n",
      "==============================================================================\n",
      "\n",
      "Warnings:\n",
      "[1] Standard Errors assume that the covariance matrix of the errors is correctly specified.\n",
      "Residual sum of squares: 2.28\n",
      "Bias: -1.73457755641\n",
      "Variance: 3.99987417123\n"
     ]
    },
    {
     "data": {
      "image/png": "[encoded data removed]",
      "text/plain": [
       "<matplotlib.figure.Figure at 0x11b69e850>"
      ]
     },
     "metadata": {},
     "output_type": "display_data"
    }
   ],
   "source": [
    "# Fitting Polynomial Functions\n",
    "# Here we fit try to fit our sample data with an increasing exponent:\n",
    "# $$f(x) = 1 + b x^n$$\n",
    "# None of these models are quite right because the data is generate from the function\n",
    "# $$ \\hat{f}(x) = 4 + 5 x - 3 x^2 + 0.1 x^3$$\n",
    "# So each model is not quite right because one or more terms is missing. This will allow us to take a closer look at the bias-variance tradeoff.\n",
    "# Let's start with $n = 1, 2, 3, 4$.\n",
    "# In [ ]:\n",
    "domain = np.array([x[0] for x in data])\n",
    "Y = np.array([x[1] for x in data])\n",
    "\n",
    "for i in range(1, 2):\n",
    "    X = monomials(domain, i)\n",
    "    # Create linear regression object\n",
    "    regr = sm.OLS(Y, X).fit()\n",
    "\n",
    "    yhat = regr.predict(X)\n",
    "    sse = np.mean((np.mean(yhat) - Y) ** 2)\n",
    "    var = np.var(yhat)\n",
    "    bias = sse - var - 0.01\n",
    "    \n",
    "    print(regr.summary())\n",
    "\n",
    "    # The mean square error\n",
    "    print(\"Residual sum of squares: %.2f\" % sse)\n",
    "\n",
    "    print(\"Bias: {bias}\".format(bias=bias))\n",
    "    print(\"Variance: {var}\".format(var=var))\n",
    "        \n",
    "    # Plot outputs\n",
    "    plt.scatter(domain, Y,  color='black')\n",
    "    plt.plot(domain, regr.predict(X), color='blue', linewidth=3)\n",
    "\n",
    "    plt.title(\"n = \" + str(i))\n",
    "\n",
    "    plt.show()"
   ]
  },
  {
   "cell_type": "code",
   "execution_count": 67,
   "metadata": {
    "collapsed": true
   },
   "outputs": [],
   "source": [
    "for degree in range(1, 7):\n",
    "    # Generate some data\n",
    "    f = lambda x: 1 - 2 * x + 3 * x ** degree + np.random.normal(mu, sigma)\n",
    "    data = generate_data(f, 0, 2, n=20)\n",
    "\n",
    "    domain = np.array([x[0] for x in data])\n",
    "    Y = np.array([x[1] for x in data])\n",
    "\n",
    "    X = np.array([domain]).transpose()\n",
    "    # Create linear regression object\n",
    "\n",
    "    # Compute the errors\n",
    "\n",
    "    # Plot outputs"
   ]
  },
  {
   "cell_type": "code",
   "execution_count": 69,
   "metadata": {
    "collapsed": false
   },
   "outputs": [
    {
     "name": "stdout",
     "output_type": "stream",
     "text": [
      "                            OLS Regression Results                            \n",
      "==============================================================================\n",
      "Dep. Variable:                      y   R-squared:                       0.773\n",
      "Model:                            OLS   Adj. R-squared:                  0.761\n",
      "Method:                 Least Squares   F-statistic:                     64.81\n",
      "Date:                Wed, 12 Oct 2016   Prob (F-statistic):           1.53e-07\n",
      "Time:                        11:17:24   Log-Likelihood:                -98.028\n",
      "No. Observations:                  20   AIC:                             198.1\n",
      "Df Residuals:                      19   BIC:                             199.1\n",
      "Df Model:                           1                                         \n",
      "Covariance Type:            nonrobust                                         \n",
      "==============================================================================\n",
      "                 coef    std err          t      P>|t|      [95.0% Conf. Int.]\n",
      "------------------------------------------------------------------------------\n",
      "x1            44.5016      5.528      8.050      0.000        32.932    56.072\n",
      "==============================================================================\n",
      "Omnibus:                        3.398   Durbin-Watson:                   0.110\n",
      "Prob(Omnibus):                  0.183   Jarque-Bera (JB):                2.427\n",
      "Skew:                           0.850   Prob(JB):                        0.297\n",
      "Kurtosis:                       2.855   Cond. No.                         1.00\n",
      "==============================================================================\n",
      "\n",
      "Warnings:\n",
      "[1] Standard Errors assume that the covariance matrix of the errors is correctly specified.\n",
      "Residual sum of squares: 2637.09\n",
      "Bias: 1802.19036143\n",
      "Variance: 834.886659422\n"
     ]
    },
    {
     "data": {
      "image/png": "[encoded data removed]",
      "text/plain": [
       "<matplotlib.figure.Figure at 0x11b8464d0>"
      ]
     },
     "metadata": {},
     "output_type": "display_data"
    },
    {
     "name": "stdout",
     "output_type": "stream",
     "text": [
      "                            OLS Regression Results                            \n",
      "==============================================================================\n",
      "Dep. Variable:                      y   R-squared:                       0.956\n",
      "Model:                            OLS   Adj. R-squared:                  0.951\n",
      "Method:                 Least Squares   F-statistic:                     196.9\n",
      "Date:                Wed, 12 Oct 2016   Prob (F-statistic):           5.83e-13\n",
      "Time:                        11:17:24   Log-Likelihood:                -81.568\n",
      "No. Observations:                  20   AIC:                             167.1\n",
      "Df Residuals:                      18   BIC:                             169.1\n",
      "Df Model:                           2                                         \n",
      "Covariance Type:            nonrobust                                         \n",
      "==============================================================================\n",
      "                 coef    std err          t      P>|t|      [95.0% Conf. Int.]\n",
      "------------------------------------------------------------------------------\n",
      "x1           -73.9651     13.873     -5.331      0.000      -103.112   -44.818\n",
      "x2            71.8531      8.277      8.681      0.000        54.463    89.243\n",
      "==============================================================================\n",
      "Omnibus:                        2.621   Durbin-Watson:                   0.225\n",
      "Prob(Omnibus):                  0.270   Jarque-Bera (JB):                1.159\n",
      "Skew:                           0.032   Prob(JB):                        0.560\n",
      "Kurtosis:                       1.822   Cond. No.                         12.6\n",
      "==============================================================================\n",
      "\n",
      "Warnings:\n",
      "[1] Standard Errors assume that the covariance matrix of the errors is correctly specified.\n",
      "Residual sum of squares: 2592.11\n",
      "Bias: 14.1601015349\n",
      "Variance: 2577.94004275\n"
     ]
    },
    {
     "data": {
      "image/png": "[encoded data removed]",
      "text/plain": [
       "<matplotlib.figure.Figure at 0x11b3c6410>"
      ]
     },
     "metadata": {},
     "output_type": "display_data"
    },
    {
     "name": "stdout",
     "output_type": "stream",
     "text": [
      "                            OLS Regression Results                            \n",
      "==============================================================================\n",
      "Dep. Variable:                      y   R-squared:                       0.997\n",
      "Model:                            OLS   Adj. R-squared:                  0.996\n",
      "Method:                 Least Squares   F-statistic:                     1735.\n",
      "Date:                Wed, 12 Oct 2016   Prob (F-statistic):           2.47e-21\n",
      "Time:                        11:17:24   Log-Likelihood:                -55.596\n",
      "No. Observations:                  20   AIC:                             117.2\n",
      "Df Residuals:                      17   BIC:                             120.2\n",
      "Df Model:                           3                                         \n",
      "Covariance Type:            nonrobust                                         \n",
      "==============================================================================\n",
      "                 coef    std err          t      P>|t|      [95.0% Conf. Int.]\n",
      "------------------------------------------------------------------------------\n",
      "x1            54.9679      9.689      5.673      0.000        34.526    75.410\n",
      "x2          -134.1310     14.362     -9.339      0.000      -164.433  -103.829\n",
      "x3            74.9992      5.160     14.534      0.000        64.112    85.887\n",
      "==============================================================================\n",
      "Omnibus:                        2.437   Durbin-Watson:                   0.541\n",
      "Prob(Omnibus):                  0.296   Jarque-Bera (JB):                1.668\n",
      "Skew:                           0.504   Prob(JB):                        0.434\n",
      "Kurtosis:                       2.007   Cond. No.                         89.8\n",
      "==============================================================================\n",
      "\n",
      "Warnings:\n",
      "[1] Standard Errors assume that the covariance matrix of the errors is correctly specified.\n",
      "Residual sum of squares: 2587.45\n",
      "Bias: 46.4580269733\n",
      "Variance: 2540.97895082\n"
     ]
    },
    {
     "data": {
      "image/png": "[encoded data removed]",
      "text/plain": [
       "<matplotlib.figure.Figure at 0x11b22a410>"
      ]
     },
     "metadata": {},
     "output_type": "display_data"
    },
    {
     "name": "stdout",
     "output_type": "stream",
     "text": [
      "                            OLS Regression Results                            \n",
      "==============================================================================\n",
      "Dep. Variable:                      y   R-squared:                       1.000\n",
      "Model:                            OLS   Adj. R-squared:                  1.000\n",
      "Method:                 Least Squares   F-statistic:                 2.723e+04\n",
      "Date:                Wed, 12 Oct 2016   Prob (F-statistic):           1.95e-30\n",
      "Time:                        11:17:24   Log-Likelihood:                -24.611\n",
      "No. Observations:                  20   AIC:                             57.22\n",
      "Df Residuals:                      16   BIC:                             61.20\n",
      "Df Model:                           4                                         \n",
      "Covariance Type:            nonrobust                                         \n",
      "==============================================================================\n",
      "                 coef    std err          t      P>|t|      [95.0% Conf. Int.]\n",
      "------------------------------------------------------------------------------\n",
      "x1           -15.7021      4.387     -3.579      0.003       -25.003    -6.402\n",
      "x2            72.7423     11.673      6.232      0.000        47.996    97.488\n",
      "x3          -100.8800      9.624    -10.482      0.000      -121.282   -80.478\n",
      "x4            45.8234      2.490     18.402      0.000        40.545    51.102\n",
      "==============================================================================\n",
      "Omnibus:                        7.072   Durbin-Watson:                   0.493\n",
      "Prob(Omnibus):                  0.029   Jarque-Bera (JB):                1.773\n",
      "Skew:                          -0.009   Prob(JB):                        0.412\n",
      "Kurtosis:                       1.541   Cond. No.                         650.\n",
      "==============================================================================\n",
      "\n",
      "Warnings:\n",
      "[1] Standard Errors assume that the covariance matrix of the errors is correctly specified.\n",
      "Residual sum of squares: 2587.35\n",
      "Bias: -12.8973944056\n",
      "Variance: 2600.24107268\n"
     ]
    },
    {
     "data": {
      "image/png": "[encoded data removed]",
      "text/plain": [
       "<matplotlib.figure.Figure at 0x11b495410>"
      ]
     },
     "metadata": {},
     "output_type": "display_data"
    },
    {
     "name": "stdout",
     "output_type": "stream",
     "text": [
      "                            OLS Regression Results                            \n",
      "==============================================================================\n",
      "Dep. Variable:                      y   R-squared:                       1.000\n",
      "Model:                            OLS   Adj. R-squared:                  1.000\n",
      "Method:                 Least Squares   F-statistic:                 2.078e+05\n",
      "Date:                Wed, 12 Oct 2016   Prob (F-statistic):           9.64e-36\n",
      "Time:                        11:17:24   Log-Likelihood:                -1.4092\n",
      "No. Observations:                  20   AIC:                             12.82\n",
      "Df Residuals:                      15   BIC:                             17.80\n",
      "Df Model:                           5                                         \n",
      "Covariance Type:            nonrobust                                         \n",
      "==============================================================================\n",
      "                 coef    std err          t      P>|t|      [95.0% Conf. Int.]\n",
      "------------------------------------------------------------------------------\n",
      "x1            10.4016      2.640      3.941      0.001         4.776    16.028\n",
      "x2           -45.8419     10.790     -4.248      0.001       -68.841   -22.843\n",
      "x3            72.8099     15.128      4.813      0.000        40.565   105.054\n",
      "x4           -56.3240      8.743     -6.442      0.000       -74.960   -37.688\n",
      "x5            20.9509      1.786     11.733      0.000        17.145    24.757\n",
      "==============================================================================\n",
      "Omnibus:                       19.261   Durbin-Watson:                   0.959\n",
      "Prob(Omnibus):                  0.000   Jarque-Bera (JB):               21.239\n",
      "Skew:                           1.905   Prob(JB):                     2.44e-05\n",
      "Kurtosis:                       6.313   Cond. No.                     4.73e+03\n",
      "==============================================================================\n",
      "\n",
      "Warnings:\n",
      "[1] Standard Errors assume that the covariance matrix of the errors is correctly specified.\n",
      "[2] The condition number is large, 4.73e+03. This might indicate that there are\n",
      "strong multicollinearity or other numerical problems.\n",
      "Residual sum of squares: 2587.34\n",
      "Bias: -5.63641391409\n",
      "Variance: 2592.96173726\n"
     ]
    },
    {
     "data": {
      "image/png": "[encoded data removed]",
      "text/plain": [
       "<matplotlib.figure.Figure at 0x11b495510>"
      ]
     },
     "metadata": {},
     "output_type": "display_data"
    },
    {
     "name": "stdout",
     "output_type": "stream",
     "text": [
      "                            OLS Regression Results                            \n",
      "==============================================================================\n",
      "Dep. Variable:                      y   R-squared:                       1.000\n",
      "Model:                            OLS   Adj. R-squared:                  1.000\n",
      "Method:                 Least Squares   F-statistic:                 1.631e+05\n",
      "Date:                Wed, 12 Oct 2016   Prob (F-statistic):           4.41e-33\n",
      "Time:                        11:17:25   Log-Likelihood:                -1.3180\n",
      "No. Observations:                  20   AIC:                             14.64\n",
      "Df Residuals:                      14   BIC:                             20.61\n",
      "Df Model:                           6                                         \n",
      "Covariance Type:            nonrobust                                         \n",
      "==============================================================================\n",
      "                 coef    std err          t      P>|t|      [95.0% Conf. Int.]\n",
      "------------------------------------------------------------------------------\n",
      "x1            11.6006      4.314      2.689      0.018         2.348    20.853\n",
      "x2           -53.6123     24.385     -2.199      0.045      -105.912    -1.313\n",
      "x3            90.0226     50.538      1.781      0.097       -18.371   198.416\n",
      "x4           -73.3613     48.429     -1.515      0.152      -177.232    30.509\n",
      "x5            28.7082     21.744      1.320      0.208       -17.928    75.344\n",
      "x6            -1.3251      3.701     -0.358      0.726        -9.263     6.613\n",
      "==============================================================================\n",
      "Omnibus:                       16.892   Durbin-Watson:                   1.007\n",
      "Prob(Omnibus):                  0.000   Jarque-Bera (JB):               17.130\n",
      "Skew:                           1.709   Prob(JB):                     0.000191\n",
      "Kurtosis:                       5.979   Cond. No.                     3.11e+04\n",
      "==============================================================================\n",
      "\n",
      "Warnings:\n",
      "[1] Standard Errors assume that the covariance matrix of the errors is correctly specified.\n",
      "[2] The condition number is large, 3.11e+04. This might indicate that there are\n",
      "strong multicollinearity or other numerical problems.\n",
      "Residual sum of squares: 2587.34\n",
      "Bias: -5.41087416401\n",
      "Variance: 2592.73589335\n"
     ]
    },
    {
     "data": {
      "image/png": "[encoded data removed]",
      "text/plain": [
       "<matplotlib.figure.Figure at 0x11c297050>"
      ]
     },
     "metadata": {},
     "output_type": "display_data"
    },
    {
     "name": "stdout",
     "output_type": "stream",
     "text": [
      "                            OLS Regression Results                            \n",
      "==============================================================================\n",
      "Dep. Variable:                      y   R-squared:                       1.000\n",
      "Model:                            OLS   Adj. R-squared:                  1.000\n",
      "Method:                 Least Squares   F-statistic:                 1.833e+05\n",
      "Date:                Wed, 12 Oct 2016   Prob (F-statistic):           2.01e-31\n",
      "Time:                        11:17:25   Log-Likelihood:                 2.1299\n",
      "No. Observations:                  20   AIC:                             9.740\n",
      "Df Residuals:                      13   BIC:                             16.71\n",
      "Df Model:                           7                                         \n",
      "Covariance Type:            nonrobust                                         \n",
      "==============================================================================\n",
      "                 coef    std err          t      P>|t|      [95.0% Conf. Int.]\n",
      "------------------------------------------------------------------------------\n",
      "x1            23.6919      6.443      3.677      0.003         9.772    37.611\n",
      "x2          -158.9639     50.273     -3.162      0.007      -267.573   -50.355\n",
      "x3           411.6211    145.853      2.822      0.014        96.525   726.717\n",
      "x4          -535.5987    204.234     -2.622      0.021      -976.819   -94.379\n",
      "x5           369.3575    148.468      2.488      0.027        48.613   690.102\n",
      "x6          -126.0077     53.992     -2.334      0.036      -242.650    -9.366\n",
      "x7            17.9710      7.768      2.313      0.038         1.189    34.753\n",
      "==============================================================================\n",
      "Omnibus:                       12.242   Durbin-Watson:                   1.292\n",
      "Prob(Omnibus):                  0.002   Jarque-Bera (JB):               11.853\n",
      "Skew:                           1.140   Prob(JB):                      0.00267\n",
      "Kurtosis:                       6.004   Cond. No.                     2.54e+05\n",
      "==============================================================================\n",
      "\n",
      "Warnings:\n",
      "[1] Standard Errors assume that the covariance matrix of the errors is correctly specified.\n",
      "[2] The condition number is large, 2.54e+05. This might indicate that there are\n",
      "strong multicollinearity or other numerical problems.\n",
      "Residual sum of squares: 2587.33\n",
      "Bias: -3.77870949343\n",
      "Variance: 2591.10188223\n"
     ]
    },
    {
     "data": {
      "image/png": "[encoded data removed]",
      "text/plain": [
       "<matplotlib.figure.Figure at 0x11b7edf90>"
      ]
     },
     "metadata": {},
     "output_type": "display_data"
    },
    {
     "name": "stdout",
     "output_type": "stream",
     "text": [
      "                            OLS Regression Results                            \n",
      "==============================================================================\n",
      "Dep. Variable:                      y   R-squared:                       1.000\n",
      "Model:                            OLS   Adj. R-squared:                  1.000\n",
      "Method:                 Least Squares   F-statistic:                 2.018e+05\n",
      "Date:                Wed, 12 Oct 2016   Prob (F-statistic):           1.42e-29\n",
      "Time:                        11:17:25   Log-Likelihood:                 5.2259\n",
      "No. Observations:                  20   AIC:                             5.548\n",
      "Df Residuals:                      12   BIC:                             13.51\n",
      "Df Model:                           8                                         \n",
      "Covariance Type:            nonrobust                                         \n",
      "==============================================================================\n",
      "                 coef    std err          t      P>|t|      [95.0% Conf. Int.]\n",
      "------------------------------------------------------------------------------\n",
      "x1            34.1173      7.613      4.481      0.001        17.530    50.705\n",
      "x2          -277.3898     72.316     -3.836      0.002      -434.953  -119.826\n",
      "x3           898.8394    267.250      3.363      0.006       316.552  1481.127\n",
      "x4         -1518.5593    505.014     -3.007      0.011     -2618.889  -418.229\n",
      "x5          1448.8602    533.975      2.713      0.019       285.428  2612.292\n",
      "x6          -783.9097    318.927     -2.458      0.030     -1478.792   -89.028\n",
      "x7           226.9574    100.388      2.261      0.043         8.232   445.683\n",
      "x8           -26.9830     12.931     -2.087      0.059       -55.156     1.190\n",
      "==============================================================================\n",
      "Omnibus:                       15.491   Durbin-Watson:                   1.859\n",
      "Prob(Omnibus):                  0.000   Jarque-Bera (JB):               16.282\n",
      "Skew:                           1.462   Prob(JB):                     0.000291\n",
      "Kurtosis:                       6.314   Cond. No.                     1.49e+06\n",
      "==============================================================================\n",
      "\n",
      "Warnings:\n",
      "[1] Standard Errors assume that the covariance matrix of the errors is correctly specified.\n",
      "[2] The condition number is large, 1.49e+06. This might indicate that there are\n",
      "strong multicollinearity or other numerical problems.\n",
      "Residual sum of squares: 2587.33\n",
      "Bias: -2.5867266298\n",
      "Variance: 2589.90896799\n"
     ]
    },
    {
     "data": {
      "image/png": "[encoded data removed]",
      "text/plain": [
       "<matplotlib.figure.Figure at 0x11b7eded0>"
      ]
     },
     "metadata": {},
     "output_type": "display_data"
    },
    {
     "name": "stdout",
     "output_type": "stream",
     "text": [
      "                            OLS Regression Results                            \n",
      "==============================================================================\n",
      "Dep. Variable:                      y   R-squared:                       1.000\n",
      "Model:                            OLS   Adj. R-squared:                  1.000\n",
      "Method:                 Least Squares   F-statistic:                 1.943e+05\n",
      "Date:                Wed, 12 Oct 2016   Prob (F-statistic):           2.68e-27\n",
      "Time:                        11:17:25   Log-Likelihood:                 6.8943\n",
      "No. Observations:                  20   AIC:                             4.211\n",
      "Df Residuals:                      11   BIC:                             13.17\n",
      "Df Model:                           9                                         \n",
      "Covariance Type:            nonrobust                                         \n",
      "==============================================================================\n",
      "                 coef    std err          t      P>|t|      [95.0% Conf. Int.]\n",
      "------------------------------------------------------------------------------\n",
      "x1            40.3752      8.551      4.722      0.001        21.555    59.196\n",
      "x2          -383.4211    102.263     -3.749      0.003      -608.500  -158.342\n",
      "x3          1513.6297    505.167      2.996      0.012       401.765  2625.495\n",
      "x4         -3233.3153   1306.807     -2.474      0.031     -6109.578  -357.052\n",
      "x5          4082.3761   1932.838      2.112      0.058      -171.771  8336.523\n",
      "x6         -3133.9646   1690.915     -1.853      0.091     -6855.644   587.715\n",
      "x7          1441.6008    864.886      1.667      0.124      -462.000  3345.201\n",
      "x8          -364.3048    239.014     -1.524      0.156      -890.372   161.762\n",
      "x9            38.9493     27.561      1.413      0.185       -21.712    99.610\n",
      "==============================================================================\n",
      "Omnibus:                       14.878   Durbin-Watson:                   1.890\n",
      "Prob(Omnibus):                  0.001   Jarque-Bera (JB):               13.917\n",
      "Skew:                           1.553   Prob(JB):                     0.000950\n",
      "Kurtosis:                       5.656   Cond. No.                     1.03e+07\n",
      "==============================================================================\n",
      "\n",
      "Warnings:\n",
      "[1] Standard Errors assume that the covariance matrix of the errors is correctly specified.\n",
      "[2] The condition number is large, 1.03e+07. This might indicate that there are\n",
      "strong multicollinearity or other numerical problems.\n",
      "Residual sum of squares: 2587.33\n",
      "Bias: -2.02774238345\n",
      "Variance: 2589.3496677\n"
     ]
    },
    {
     "data": {
      "image/png": "[encoded data removed]",
      "text/plain": [
       "<matplotlib.figure.Figure at 0x11c0f1e10>"
      ]
     },
     "metadata": {},
     "output_type": "display_data"
    }
   ],
   "source": [
    "\n",
    "\n",
    "for i in range(1, 10):\n",
    "    X = polynomials(domain, i)\n",
    "    # Create linear regression object\n",
    "    regr = sm.OLS(Y, X).fit()\n",
    "\n",
    "    yhat = regr.predict(X)\n",
    "    sse = np.mean((np.mean(yhat) - Y) ** 2)\n",
    "    var = np.var(yhat)\n",
    "    bias = sse - var - 0.01\n",
    "    \n",
    "    # The coefficients\n",
    "    print(regr.summary())\n",
    "\n",
    "    # The mean square error\n",
    "    print(\"Residual sum of squares: %.2f\" % sse)\n",
    "\n",
    "    print(\"Bias: {bias}\".format(bias=bias))\n",
    "    print(\"Variance: {var}\".format(var=var))\n",
    "        \n",
    "    # Plot outputs\n",
    "    plt.scatter(domain, Y,  color='black')\n",
    "    plt.plot(domain, regr.predict(X), color='blue', linewidth=3)\n",
    "\n",
    "    plt.title(\"n = \" + str(i))\n",
    "\n",
    "    plt.show()"
   ]
  },
  {
   "cell_type": "code",
   "execution_count": null,
   "metadata": {
    "collapsed": true
   },
   "outputs": [],
   "source": []
  }
 ],
 "metadata": {
  "anaconda-cloud": {},
  "kernelspec": {
   "display_name": "Python [Root]",
   "language": "python",
   "name": "Python [Root]"
  },
  "language_info": {
   "codemirror_mode": {
    "name": "ipython",
    "version": 2
   },
   "file_extension": ".py",
   "mimetype": "text/x-python",
   "name": "python",
   "nbconvert_exporter": "python",
   "pygments_lexer": "ipython2",
   "version": "2.7.12"
  }
 },
 "nbformat": 4,
 "nbformat_minor": 0
}
