{
 "cells": [
  {
   "cell_type": "code",
   "execution_count": 78,
   "metadata": {
    "collapsed": true
   },
   "outputs": [],
   "source": [
    "\n",
    "# Bias Variance Tradeoff\n",
    "# In this notebook we investigate the bias and variance of models. In the first section we'll investigate fitting functions of the form:\n",
    "# $$f(x) = a + b * x^n$$\n",
    "# to some cubic data with noise.\n",
    "# In [ ]:\n",
    "\n",
    "% matplotlib inline\n",
    "from __future__ import print_function\n",
    "import random\n",
    "\n",
    "from matplotlib import pyplot as plt\n",
    "import numpy as np\n",
    "import pandas as pd\n",
    "from scipy import stats\n",
    "\n",
    "# from sklearn import datasets, linear_model\n",
    "import statsmodels.api as sm"
   ]
  },
  {
   "cell_type": "code",
   "execution_count": 79,
   "metadata": {
    "collapsed": false
   },
   "outputs": [],
   "source": [
    "def polynomials(X, degree=1):\n",
    "    # See also numpy.vander\n",
    "    array = [X]\n",
    "    y = X\n",
    "    for i in range(2, int(degree + 1)):\n",
    "        y = y * X\n",
    "        array.append(y)\n",
    "    return np.array(array).transpose()\n",
    "\n"
   ]
  },
  {
   "cell_type": "code",
   "execution_count": 80,
   "metadata": {
    "collapsed": false
   },
   "outputs": [],
   "source": [
    "X = np.array(range(3))\n",
    "# polynomials(X, 3)"
   ]
  },
  {
   "cell_type": "code",
   "execution_count": 81,
   "metadata": {
    "collapsed": false
   },
   "outputs": [
    {
     "data": {
      "text/plain": [
       "array([[   0,    0,    0,    0,    0,    0,    0,    0,    0,    0],\n",
       "       [   1,    1,    1,    1,    1,    1,    1,    1,    1,    1],\n",
       "       [   2,    4,    8,   16,   32,   64,  128,  256,  512, 1024]])"
      ]
     },
     "execution_count": 81,
     "metadata": {},
     "output_type": "execute_result"
    }
   ],
   "source": [
    "polynomials(X, 10)"
   ]
  },
  {
   "cell_type": "code",
   "execution_count": 82,
   "metadata": {
    "collapsed": true
   },
   "outputs": [],
   "source": [
    "def monomials(X, degree=1):\n",
    "    y = np.array(X)\n",
    "    y = np.power(X, degree)\n",
    "    return np.array([y]).transpose()\n",
    "\n"
   ]
  },
  {
   "cell_type": "code",
   "execution_count": 83,
   "metadata": {
    "collapsed": false
   },
   "outputs": [
    {
     "data": {
      "text/plain": [
       "array([[0],\n",
       "       [1],\n",
       "       [8]])"
      ]
     },
     "execution_count": 83,
     "metadata": {},
     "output_type": "execute_result"
    }
   ],
   "source": [
    "monomials(X, 3)"
   ]
  },
  {
   "cell_type": "code",
   "execution_count": 84,
   "metadata": {
    "collapsed": true
   },
   "outputs": [],
   "source": [
    "def generate_data(func, a, b, n=100):\n",
    "    data = []\n",
    "    for _ in range(n):\n",
    "        x = random.random() * (b - a)\n",
    "        y = func(x)\n",
    "        data.append((x, y))\n",
    "    return list(sorted(data))"
   ]
  },
  {
   "cell_type": "code",
   "execution_count": 85,
   "metadata": {
    "collapsed": false
   },
   "outputs": [
    {
     "data": {
      "text/plain": [
       "[(0.10782503557102352, 4.3741299510128275),\n",
       " (0.2440108929990421, 4.929412417291229),\n",
       " (0.3120549079770163, 5.085865827396289),\n",
       " (0.3563930798189683, 5.357083169989275),\n",
       " (0.3853353667007544, 5.561915758033483),\n",
       " (0.3969079554121546, 5.385792089159597),\n",
       " (0.5392083959906206, 5.78945382708031),\n",
       " (0.5770831518003607, 6.045861283450721),\n",
       " (0.8475733632557239, 6.012095759476232),\n",
       " (0.9333140602308756, 6.082346917029436),\n",
       " (0.9419818371439244, 6.181535155184992),\n",
       " (1.0494705767778427, 6.053254996692381),\n",
       " (1.2137282674982892, 5.896669810764608),\n",
       " (1.4824154576066708, 5.0998901311533045),\n",
       " (1.5315367981115664, 4.839230400563613),\n",
       " (1.6116801158434304, 4.703458994733044),\n",
       " (1.6358420517048562, 4.638953233082141),\n",
       " (1.7417176594687913, 4.275652679123506),\n",
       " (1.8860510608878382, 3.422812023556364),\n",
       " (1.8930993475650693, 3.447016438885132)]"
      ]
     },
     "execution_count": 85,
     "metadata": {},
     "output_type": "execute_result"
    }
   ],
   "source": [
    "mu, sigma = 0, 0.1 # mean and standard deviation\n",
    "# norm = np.random.normal(mu, sigma)\n",
    "\n",
    "# Generate some data\n",
    "f = lambda x: 4 + 5 * x - 3 * x*x + 0.1 * x * x * x + np.random.normal(mu, sigma)\n",
    "data = generate_data(f, 0, 2, n=20)\n",
    "data"
   ]
  },
  {
   "cell_type": "code",
   "execution_count": 86,
   "metadata": {
    "collapsed": false
   },
   "outputs": [
    {
     "name": "stdout",
     "output_type": "stream",
     "text": [
      "                            OLS Regression Results                            \n",
      "==============================================================================\n",
      "Dep. Variable:                      y   R-squared:                       0.653\n",
      "Model:                            OLS   Adj. R-squared:                  0.635\n",
      "Method:                 Least Squares   F-statistic:                     35.72\n",
      "Date:                Wed, 12 Oct 2016   Prob (F-statistic):           9.43e-06\n",
      "Time:                        12:47:32   Log-Likelihood:                -50.864\n",
      "No. Observations:                  20   AIC:                             103.7\n",
      "Df Residuals:                      19   BIC:                             104.7\n",
      "Df Model:                           1                                         \n",
      "Covariance Type:            nonrobust                                         \n",
      "==============================================================================\n",
      "                 coef    std err          t      P>|t|      [95.0% Conf. Int.]\n",
      "------------------------------------------------------------------------------\n",
      "x1             3.6827      0.616      5.977      0.000         2.393     4.972\n",
      "==============================================================================\n",
      "Omnibus:                        3.744   Durbin-Watson:                   0.043\n",
      "Prob(Omnibus):                  0.154   Jarque-Bera (JB):                2.415\n",
      "Skew:                          -0.662   Prob(JB):                        0.299\n",
      "Kurtosis:                       1.930   Cond. No.                         1.00\n",
      "==============================================================================\n",
      "\n",
      "Warnings:\n",
      "[1] Standard Errors assume that the covariance matrix of the errors is correctly specified.\n",
      "Residual sum of squares: 3.02\n",
      "Bias: -1.65837497593\n",
      "Variance: 4.67115945805\n"
     ]
    },
    {
     "data": {
      "image/png": "[encoded data removed]",
      "text/plain": [
       "<matplotlib.figure.Figure at 0x11b7b72d0>"
      ]
     },
     "metadata": {},
     "output_type": "display_data"
    }
   ],
   "source": [
    "# Fitting Polynomial Functions\n",
    "# Here we fit try to fit our sample data with an increasing exponent:\n",
    "# $$f(x) = 1 + b x^n$$\n",
    "# None of these models are quite right because the data is generate from the function\n",
    "# $$ \\hat{f}(x) = 4 + 5 x - 3 x^2 + 0.1 x^3$$\n",
    "# So each model is not quite right because one or more terms is missing. This will allow us to take a closer look at the bias-variance tradeoff.\n",
    "# Let's start with $n = 1, 2, 3, 4$.\n",
    "# In [ ]:\n",
    "domain = np.array([x[0] for x in data])\n",
    "Y = np.array([x[1] for x in data])\n",
    "\n",
    "for i in range(1, 2):\n",
    "    X = monomials(domain, i)\n",
    "    # Create linear regression object\n",
    "    regr = sm.OLS(Y, X).fit()\n",
    "\n",
    "    yhat = regr.predict(X)\n",
    "    sse = np.mean((np.mean(yhat) - Y) ** 2)\n",
    "    var = np.var(yhat)\n",
    "    bias = sse - var - 0.01\n",
    "    \n",
    "    print(regr.summary())\n",
    "\n",
    "    # The mean square error\n",
    "    print(\"Residual sum of squares: %.2f\" % sse)\n",
    "\n",
    "    print(\"Bias: {bias}\".format(bias=bias))\n",
    "    print(\"Variance: {var}\".format(var=var))\n",
    "        \n",
    "    # Plot outputs\n",
    "    plt.scatter(domain, Y,  color='black')\n",
    "    plt.plot(domain, regr.predict(X), color='blue', linewidth=3)\n",
    "\n",
    "    plt.title(\"n = \" + str(i))\n",
    "\n",
    "    plt.show()"
   ]
  },
  {
   "cell_type": "code",
   "execution_count": 87,
   "metadata": {
    "collapsed": true
   },
   "outputs": [],
   "source": [
    "for degree in range(1, 7):\n",
    "    # Generate some data\n",
    "    f = lambda x: 1 - 2 * x + 3 * x ** degree + np.random.normal(mu, sigma)\n",
    "    data = generate_data(f, 0, 2, n=20)\n",
    "\n",
    "    domain = np.array([x[0] for x in data])\n",
    "    Y = np.array([x[1] for x in data])\n",
    "\n",
    "    X = np.array([domain]).transpose()\n",
    "    # Create linear regression object\n",
    "\n",
    "    # Compute the errors\n",
    "\n",
    "    # Plot outputs"
   ]
  },
  {
   "cell_type": "code",
   "execution_count": 88,
   "metadata": {
    "collapsed": false
   },
   "outputs": [
    {
     "name": "stdout",
     "output_type": "stream",
     "text": [
      "                            OLS Regression Results                            \n",
      "==============================================================================\n",
      "Dep. Variable:                      y   R-squared:                       0.645\n",
      "Model:                            OLS   Adj. R-squared:                  0.627\n",
      "Method:                 Least Squares   F-statistic:                     34.57\n",
      "Date:                Wed, 12 Oct 2016   Prob (F-statistic):           1.16e-05\n",
      "Time:                        12:47:34   Log-Likelihood:                -100.38\n",
      "No. Observations:                  20   AIC:                             202.8\n",
      "Df Residuals:                      19   BIC:                             203.8\n",
      "Df Model:                           1                                         \n",
      "Covariance Type:            nonrobust                                         \n",
      "==============================================================================\n",
      "                 coef    std err          t      P>|t|      [95.0% Conf. Int.]\n",
      "------------------------------------------------------------------------------\n",
      "x1            41.5358      7.064      5.880      0.000        26.751    56.321\n",
      "==============================================================================\n",
      "Omnibus:                       16.828   Durbin-Watson:                   0.207\n",
      "Prob(Omnibus):                  0.000   Jarque-Bera (JB):               16.683\n",
      "Skew:                           1.746   Prob(JB):                     0.000238\n",
      "Kurtosis:                       5.797   Cond. No.                         1.00\n",
      "==============================================================================\n",
      "\n",
      "Warnings:\n",
      "[1] Standard Errors assume that the covariance matrix of the errors is correctly specified.\n",
      "Residual sum of squares: 2814.38\n",
      "Bias: 2193.11216981\n",
      "Variance: 621.258888294\n"
     ]
    },
    {
     "data": {
      "image/png": "[encoded data removed]",
      "text/plain": [
       "<matplotlib.figure.Figure at 0x11af8a2d0>"
      ]
     },
     "metadata": {},
     "output_type": "display_data"
    },
    {
     "name": "stdout",
     "output_type": "stream",
     "text": [
      "                            OLS Regression Results                            \n",
      "==============================================================================\n",
      "Dep. Variable:                      y   R-squared:                       0.926\n",
      "Model:                            OLS   Adj. R-squared:                  0.918\n",
      "Method:                 Least Squares   F-statistic:                     112.2\n",
      "Date:                Wed, 12 Oct 2016   Prob (F-statistic):           6.85e-11\n",
      "Time:                        12:47:34   Log-Likelihood:                -84.739\n",
      "No. Observations:                  20   AIC:                             173.5\n",
      "Df Residuals:                      18   BIC:                             175.5\n",
      "Df Model:                           2                                         \n",
      "Covariance Type:            nonrobust                                         \n",
      "==============================================================================\n",
      "                 coef    std err          t      P>|t|      [95.0% Conf. Int.]\n",
      "------------------------------------------------------------------------------\n",
      "x1           -66.4876     13.515     -4.920      0.000       -94.882   -38.094\n",
      "x2            69.0496      8.374      8.246      0.000        51.456    86.643\n",
      "==============================================================================\n",
      "Omnibus:                        0.263   Durbin-Watson:                   0.326\n",
      "Prob(Omnibus):                  0.877   Jarque-Bera (JB):                0.339\n",
      "Skew:                           0.229   Prob(JB):                        0.844\n",
      "Kurtosis:                       2.557   Cond. No.                         8.98\n",
      "==============================================================================\n",
      "\n",
      "Warnings:\n",
      "[1] Standard Errors assume that the covariance matrix of the errors is correctly specified.\n",
      "Residual sum of squares: 2724.67\n",
      "Bias: 88.8352202135\n",
      "Variance: 2635.82091748\n"
     ]
    },
    {
     "data": {
      "image/png": "[encoded data removed]",
      "text/plain": [
       "<matplotlib.figure.Figure at 0x118a0f710>"
      ]
     },
     "metadata": {},
     "output_type": "display_data"
    },
    {
     "name": "stdout",
     "output_type": "stream",
     "text": [
      "                            OLS Regression Results                            \n",
      "==============================================================================\n",
      "Dep. Variable:                      y   R-squared:                       0.994\n",
      "Model:                            OLS   Adj. R-squared:                  0.993\n",
      "Method:                 Least Squares   F-statistic:                     996.9\n",
      "Date:                Wed, 12 Oct 2016   Prob (F-statistic):           2.68e-19\n",
      "Time:                        12:47:34   Log-Likelihood:                -58.987\n",
      "No. Observations:                  20   AIC:                             124.0\n",
      "Df Residuals:                      17   BIC:                             127.0\n",
      "Df Model:                           3                                         \n",
      "Covariance Type:            nonrobust                                         \n",
      "==============================================================================\n",
      "                 coef    std err          t      P>|t|      [95.0% Conf. Int.]\n",
      "------------------------------------------------------------------------------\n",
      "x1            45.2749      8.676      5.218      0.000        26.970    63.580\n",
      "x2          -120.4474     13.406     -8.984      0.000      -148.732   -92.163\n",
      "x3            70.9080      4.937     14.363      0.000        60.492    81.324\n",
      "==============================================================================\n",
      "Omnibus:                        3.132   Durbin-Watson:                   0.560\n",
      "Prob(Omnibus):                  0.209   Jarque-Bera (JB):                1.797\n",
      "Skew:                           0.727   Prob(JB):                        0.407\n",
      "Kurtosis:                       3.205   Cond. No.                         59.2\n",
      "==============================================================================\n",
      "\n",
      "Warnings:\n",
      "[1] Standard Errors assume that the covariance matrix of the errors is correctly specified.\n",
      "Residual sum of squares: 2714.18\n",
      "Bias: 48.5133098229\n",
      "Variance: 2665.65272352\n"
     ]
    },
    {
     "data": {
      "image/png": "[encoded data removed]",
      "text/plain": [
       "<matplotlib.figure.Figure at 0x11bb19410>"
      ]
     },
     "metadata": {},
     "output_type": "display_data"
    },
    {
     "name": "stdout",
     "output_type": "stream",
     "text": [
      "                            OLS Regression Results                            \n",
      "==============================================================================\n",
      "Dep. Variable:                      y   R-squared:                       1.000\n",
      "Model:                            OLS   Adj. R-squared:                  1.000\n",
      "Method:                 Least Squares   F-statistic:                 1.566e+04\n",
      "Date:                Wed, 12 Oct 2016   Prob (F-statistic):           1.63e-28\n",
      "Time:                        12:47:34   Log-Likelihood:                -28.017\n",
      "No. Observations:                  20   AIC:                             64.03\n",
      "Df Residuals:                      16   BIC:                             68.02\n",
      "Df Model:                           4                                         \n",
      "Covariance Type:            nonrobust                                         \n",
      "==============================================================================\n",
      "                 coef    std err          t      P>|t|      [95.0% Conf. Int.]\n",
      "------------------------------------------------------------------------------\n",
      "x1           -18.7694      3.968     -4.730      0.000       -27.181   -10.357\n",
      "x2            83.1082     11.453      7.256      0.000        58.828   107.389\n",
      "x3          -110.4043      9.920    -11.130      0.000      -131.433   -89.375\n",
      "x4            48.4659      2.636     18.387      0.000        42.878    54.054\n",
      "==============================================================================\n",
      "Omnibus:                        1.492   Durbin-Watson:                   0.628\n",
      "Prob(Omnibus):                  0.474   Jarque-Bera (JB):                0.963\n",
      "Skew:                           0.180   Prob(JB):                        0.618\n",
      "Kurtosis:                       1.987   Cond. No.                         466.\n",
      "==============================================================================\n",
      "\n",
      "Warnings:\n",
      "[1] Standard Errors assume that the covariance matrix of the errors is correctly specified.\n",
      "Residual sum of squares: 2714.02\n",
      "Bias: -6.26460717392\n",
      "Variance: 2720.27345947\n"
     ]
    },
    {
     "data": {
      "image/png": "[encoded data removed]",
      "text/plain": [
       "<matplotlib.figure.Figure at 0x11c045b90>"
      ]
     },
     "metadata": {},
     "output_type": "display_data"
    },
    {
     "name": "stdout",
     "output_type": "stream",
     "text": [
      "                            OLS Regression Results                            \n",
      "==============================================================================\n",
      "Dep. Variable:                      y   R-squared:                       1.000\n",
      "Model:                            OLS   Adj. R-squared:                  1.000\n",
      "Method:                 Least Squares   F-statistic:                 3.456e+05\n",
      "Date:                Wed, 12 Oct 2016   Prob (F-statistic):           2.13e-37\n",
      "Time:                        12:47:35   Log-Likelihood:                 5.8008\n",
      "No. Observations:                  20   AIC:                            -1.602\n",
      "Df Residuals:                      15   BIC:                             3.377\n",
      "Df Model:                           5                                         \n",
      "Covariance Type:            nonrobust                                         \n",
      "==============================================================================\n",
      "                 coef    std err          t      P>|t|      [95.0% Conf. Int.]\n",
      "------------------------------------------------------------------------------\n",
      "x1             8.5386      1.523      5.606      0.000         5.292    11.785\n",
      "x2           -37.1728      6.220     -5.976      0.000       -50.431   -23.915\n",
      "x3            60.2945      8.480      7.110      0.000        42.220    78.369\n",
      "x4           -49.1643      4.755    -10.340      0.000       -59.299   -39.030\n",
      "x5            19.5246      0.946     20.648      0.000        17.509    21.540\n",
      "==============================================================================\n",
      "Omnibus:                       16.893   Durbin-Watson:                   1.728\n",
      "Prob(Omnibus):                  0.000   Jarque-Bera (JB):               17.863\n",
      "Skew:                           1.639   Prob(JB):                     0.000132\n",
      "Kurtosis:                       6.270   Cond. No.                     3.31e+03\n",
      "==============================================================================\n",
      "\n",
      "Warnings:\n",
      "[1] Standard Errors assume that the covariance matrix of the errors is correctly specified.\n",
      "[2] The condition number is large, 3.31e+03. This might indicate that there are\n",
      "strong multicollinearity or other numerical problems.\n",
      "Residual sum of squares: 2714.01\n",
      "Bias: -1.04410082795\n",
      "Variance: 2715.04087245\n"
     ]
    },
    {
     "data": {
      "image/png": "[encoded data removed]",
      "text/plain": [
       "<matplotlib.figure.Figure at 0x11b9a9650>"
      ]
     },
     "metadata": {},
     "output_type": "display_data"
    },
    {
     "name": "stdout",
     "output_type": "stream",
     "text": [
      "                            OLS Regression Results                            \n",
      "==============================================================================\n",
      "Dep. Variable:                      y   R-squared:                       1.000\n",
      "Model:                            OLS   Adj. R-squared:                  1.000\n",
      "Method:                 Least Squares   F-statistic:                 3.014e+05\n",
      "Date:                Wed, 12 Oct 2016   Prob (F-statistic):           6.00e-35\n",
      "Time:                        12:47:35   Log-Likelihood:                 6.9448\n",
      "No. Observations:                  20   AIC:                            -1.890\n",
      "Df Residuals:                      14   BIC:                             4.085\n",
      "Df Model:                           6                                         \n",
      "Covariance Type:            nonrobust                                         \n",
      "==============================================================================\n",
      "                 coef    std err          t      P>|t|      [95.0% Conf. Int.]\n",
      "------------------------------------------------------------------------------\n",
      "x1            11.2882      2.583      4.370      0.001         5.748    16.828\n",
      "x2           -54.5989     14.695     -3.716      0.002       -86.116   -23.082\n",
      "x3            98.7812     30.687      3.219      0.006        32.965   164.598\n",
      "x4           -87.0518     29.455     -2.955      0.010      -150.226   -23.877\n",
      "x5            36.5812     13.127      2.787      0.015         8.427    64.735\n",
      "x6            -2.8654      2.200     -1.303      0.214        -7.583     1.853\n",
      "==============================================================================\n",
      "Omnibus:                        4.614   Durbin-Watson:                   1.795\n",
      "Prob(Omnibus):                  0.100   Jarque-Bera (JB):                2.607\n",
      "Skew:                           0.828   Prob(JB):                        0.272\n",
      "Kurtosis:                       3.622   Cond. No.                     2.54e+04\n",
      "==============================================================================\n",
      "\n",
      "Warnings:\n",
      "[1] Standard Errors assume that the covariance matrix of the errors is correctly specified.\n",
      "[2] The condition number is large, 2.54e+04. This might indicate that there are\n",
      "strong multicollinearity or other numerical problems.\n",
      "Residual sum of squares: 2714.01\n",
      "Bias: -0.752423885992\n",
      "Variance: 2714.7490676\n"
     ]
    },
    {
     "data": {
      "image/png": "[encoded data removed]",
      "text/plain": [
       "<matplotlib.figure.Figure at 0x11b452c10>"
      ]
     },
     "metadata": {},
     "output_type": "display_data"
    },
    {
     "name": "stdout",
     "output_type": "stream",
     "text": [
      "                            OLS Regression Results                            \n",
      "==============================================================================\n",
      "Dep. Variable:                      y   R-squared:                       1.000\n",
      "Model:                            OLS   Adj. R-squared:                  1.000\n",
      "Method:                 Least Squares   F-statistic:                 4.429e+05\n",
      "Date:                Wed, 12 Oct 2016   Prob (F-statistic):           6.50e-34\n",
      "Time:                        12:47:35   Log-Likelihood:                 13.076\n",
      "No. Observations:                  20   AIC:                            -12.15\n",
      "Df Residuals:                      13   BIC:                            -5.182\n",
      "Df Model:                           7                                         \n",
      "Covariance Type:            nonrobust                                         \n",
      "==============================================================================\n",
      "                 coef    std err          t      P>|t|      [95.0% Conf. Int.]\n",
      "------------------------------------------------------------------------------\n",
      "x1            19.4687      3.158      6.164      0.000        12.645    26.292\n",
      "x2          -122.9870     23.476     -5.239      0.000      -173.704   -72.271\n",
      "x3           305.3128     66.535      4.589      0.001       161.574   449.052\n",
      "x4          -383.3886     92.135     -4.161      0.001      -582.435  -184.343\n",
      "x5           255.1266     66.651      3.828      0.002       111.137   399.116\n",
      "x6           -82.8699     24.180     -3.427      0.005      -135.108   -30.632\n",
      "x7            11.5104      3.470      3.317      0.006         4.013    19.008\n",
      "==============================================================================\n",
      "Omnibus:                        1.544   Durbin-Watson:                   2.769\n",
      "Prob(Omnibus):                  0.462   Jarque-Bera (JB):                0.914\n",
      "Skew:                          -0.003   Prob(JB):                        0.633\n",
      "Kurtosis:                       1.953   Cond. No.                     1.81e+05\n",
      "==============================================================================\n",
      "\n",
      "Warnings:\n",
      "[1] Standard Errors assume that the covariance matrix of the errors is correctly specified.\n",
      "[2] The condition number is large, 1.81e+05. This might indicate that there are\n",
      "strong multicollinearity or other numerical problems.\n",
      "Residual sum of squares: 2714.01\n",
      "Bias: -0.224415480163\n",
      "Variance: 2714.22093144\n"
     ]
    },
    {
     "data": {
      "image/png": "[encoded data removed]",
      "text/plain": [
       "<matplotlib.figure.Figure at 0x11be66310>"
      ]
     },
     "metadata": {},
     "output_type": "display_data"
    },
    {
     "name": "stdout",
     "output_type": "stream",
     "text": [
      "                            OLS Regression Results                            \n",
      "==============================================================================\n",
      "Dep. Variable:                      y   R-squared:                       1.000\n",
      "Model:                            OLS   Adj. R-squared:                  1.000\n",
      "Method:                 Least Squares   F-statistic:                 4.659e+05\n",
      "Date:                Wed, 12 Oct 2016   Prob (F-statistic):           9.36e-32\n",
      "Time:                        12:47:35   Log-Likelihood:                 15.719\n",
      "No. Observations:                  20   AIC:                            -15.44\n",
      "Df Residuals:                      12   BIC:                            -7.471\n",
      "Df Model:                           8                                         \n",
      "Covariance Type:            nonrobust                                         \n",
      "==============================================================================\n",
      "                 coef    std err          t      P>|t|      [95.0% Conf. Int.]\n",
      "------------------------------------------------------------------------------\n",
      "x1            23.3470      3.527      6.619      0.000        15.662    31.032\n",
      "x2          -167.9696     31.873     -5.270      0.000      -237.415   -98.524\n",
      "x3           494.5294    116.390      4.249      0.001       240.937   748.122\n",
      "x4          -771.6737    220.455     -3.500      0.004     -1252.004  -291.344\n",
      "x5           685.9401    234.163      2.929      0.013       175.742  1196.138\n",
      "x6          -346.6219    140.190     -2.473      0.029      -652.070   -41.174\n",
      "x7            95.2935     44.092      2.161      0.052        -0.774   191.361\n",
      "x8           -10.7783      5.658     -1.905      0.081       -23.105     1.549\n",
      "==============================================================================\n",
      "Omnibus:                        1.665   Durbin-Watson:                   2.745\n",
      "Prob(Omnibus):                  0.435   Jarque-Bera (JB):                0.711\n",
      "Skew:                           0.452   Prob(JB):                        0.701\n",
      "Kurtosis:                       3.186   Cond. No.                     1.03e+06\n",
      "==============================================================================\n",
      "\n",
      "Warnings:\n",
      "[1] Standard Errors assume that the covariance matrix of the errors is correctly specified.\n",
      "[2] The condition number is large, 1.03e+06. This might indicate that there are\n",
      "strong multicollinearity or other numerical problems.\n",
      "Residual sum of squares: 2714.01\n",
      "Bias: -0.0713092719159\n",
      "Variance: 2714.06781402\n"
     ]
    },
    {
     "data": {
      "image/png": "[encoded data removed]",
      "text/plain": [
       "<matplotlib.figure.Figure at 0x11ba5e090>"
      ]
     },
     "metadata": {},
     "output_type": "display_data"
    },
    {
     "name": "stdout",
     "output_type": "stream",
     "text": [
      "                            OLS Regression Results                            \n",
      "==============================================================================\n",
      "Dep. Variable:                      y   R-squared:                       1.000\n",
      "Model:                            OLS   Adj. R-squared:                  1.000\n",
      "Method:                 Least Squares   F-statistic:                 4.314e+05\n",
      "Date:                Wed, 12 Oct 2016   Prob (F-statistic):           3.33e-29\n",
      "Time:                        12:47:35   Log-Likelihood:                 16.998\n",
      "No. Observations:                  20   AIC:                            -16.00\n",
      "Df Residuals:                      11   BIC:                            -7.034\n",
      "Df Model:                           9                                         \n",
      "Covariance Type:            nonrobust                                         \n",
      "==============================================================================\n",
      "                 coef    std err          t      P>|t|      [95.0% Conf. Int.]\n",
      "------------------------------------------------------------------------------\n",
      "x1            26.9552      4.541      5.936      0.000        16.961    36.949\n",
      "x2          -227.6328     57.852     -3.935      0.002      -354.964  -100.301\n",
      "x3           825.7353    293.412      2.814      0.017       179.940  1471.530\n",
      "x4         -1656.7384    754.028     -2.197      0.050     -3316.343     2.866\n",
      "x5          1990.2079   1089.043      1.827      0.095      -406.760  4387.175\n",
      "x6         -1464.6423    922.858     -1.587      0.141     -3495.839   566.554\n",
      "x7           650.8109    455.492      1.429      0.181      -351.720  1653.342\n",
      "x8          -159.1726    121.253     -1.313      0.216      -426.048   107.703\n",
      "x9            16.4889     13.459      1.225      0.246       -13.134    46.112\n",
      "==============================================================================\n",
      "Omnibus:                        1.715   Durbin-Watson:                   2.980\n",
      "Prob(Omnibus):                  0.424   Jarque-Bera (JB):                0.408\n",
      "Skew:                           0.026   Prob(JB):                        0.815\n",
      "Kurtosis:                       3.698   Cond. No.                     9.25e+06\n",
      "==============================================================================\n",
      "\n",
      "Warnings:\n",
      "[1] Standard Errors assume that the covariance matrix of the errors is correctly specified.\n",
      "[2] The condition number is large, 9.25e+06. This might indicate that there are\n",
      "strong multicollinearity or other numerical problems.\n",
      "Residual sum of squares: 2714.01\n",
      "Bias: -0.0214387759913\n",
      "Variance: 2714.01794237\n"
     ]
    },
    {
     "data": {
      "image/png": "[encoded data removed]",
      "text/plain": [
       "<matplotlib.figure.Figure at 0x11b2e0cd0>"
      ]
     },
     "metadata": {},
     "output_type": "display_data"
    }
   ],
   "source": [
    "\n",
    "\n",
    "for i in range(1, 10):\n",
    "    X = polynomials(domain, i)\n",
    "    # Create linear regression object\n",
    "    regr = sm.OLS(Y, X).fit()\n",
    "\n",
    "    yhat = regr.predict(X)\n",
    "    sse = np.mean((np.mean(yhat) - Y) ** 2)\n",
    "    var = np.var(yhat)\n",
    "    bias = sse - var - 0.01\n",
    "    \n",
    "    # The coefficients\n",
    "    print(regr.summary())\n",
    "\n",
    "    # The mean square error\n",
    "    print(\"Residual sum of squares: %.2f\" % sse)\n",
    "\n",
    "    print(\"Bias: {bias}\".format(bias=bias))\n",
    "    print(\"Variance: {var}\".format(var=var))\n",
    "        \n",
    "    # Plot outputs\n",
    "    plt.scatter(domain, Y,  color='black')\n",
    "    plt.plot(domain, regr.predict(X), color='blue', linewidth=3)\n",
    "\n",
    "    plt.title(\"n = \" + str(i))\n",
    "\n",
    "    plt.show()"
   ]
  },
  {
   "cell_type": "code",
   "execution_count": 89,
   "metadata": {
    "collapsed": false
   },
   "outputs": [
    {
     "ename": "SyntaxError",
     "evalue": "invalid syntax (<ipython-input-89-01160104c56c>, line 1)",
     "output_type": "error",
     "traceback": [
      "\u001b[0;36m  File \u001b[0;32m\"<ipython-input-89-01160104c56c>\"\u001b[0;36m, line \u001b[0;32m1\u001b[0m\n\u001b[0;31m    print df.columns\u001b[0m\n\u001b[0m           ^\u001b[0m\n\u001b[0;31mSyntaxError\u001b[0m\u001b[0;31m:\u001b[0m invalid syntax\n"
     ]
    }
   ],
   "source": [
    "print df.columns"
   ]
  },
  {
   "cell_type": "code",
   "execution_count": null,
   "metadata": {
    "collapsed": true
   },
   "outputs": [],
   "source": []
  },
  {
   "cell_type": "code",
   "execution_count": null,
   "metadata": {
    "collapsed": true
   },
   "outputs": [],
   "source": []
  },
  {
   "cell_type": "code",
   "execution_count": null,
   "metadata": {
    "collapsed": true
   },
   "outputs": [],
   "source": [
    "\n",
    "\n"
   ]
  },
  {
   "cell_type": "code",
   "execution_count": null,
   "metadata": {
    "collapsed": false
   },
   "outputs": [],
   "source": []
  },
  {
   "cell_type": "code",
   "execution_count": null,
   "metadata": {
    "collapsed": false
   },
   "outputs": [],
   "source": []
  },
  {
   "cell_type": "code",
   "execution_count": null,
   "metadata": {
    "collapsed": true
   },
   "outputs": [],
   "source": []
  },
  {
   "cell_type": "code",
   "execution_count": null,
   "metadata": {
    "collapsed": false
   },
   "outputs": [],
   "source": []
  },
  {
   "cell_type": "code",
   "execution_count": null,
   "metadata": {
    "collapsed": false
   },
   "outputs": [],
   "source": []
  },
  {
   "cell_type": "code",
   "execution_count": null,
   "metadata": {
    "collapsed": false
   },
   "outputs": [],
   "source": []
  },
  {
   "cell_type": "code",
   "execution_count": null,
   "metadata": {
    "collapsed": false
   },
   "outputs": [],
   "source": []
  },
  {
   "cell_type": "code",
   "execution_count": null,
   "metadata": {
    "collapsed": true
   },
   "outputs": [],
   "source": []
  },
  {
   "cell_type": "code",
   "execution_count": null,
   "metadata": {
    "collapsed": false
   },
   "outputs": [],
   "source": []
  },
  {
   "cell_type": "code",
   "execution_count": null,
   "metadata": {
    "collapsed": true
   },
   "outputs": [],
   "source": []
  },
  {
   "cell_type": "code",
   "execution_count": null,
   "metadata": {
    "collapsed": true
   },
   "outputs": [],
   "source": []
  }
 ],
 "metadata": {
  "anaconda-cloud": {},
  "kernelspec": {
   "display_name": "Python [Root]",
   "language": "python",
   "name": "Python [Root]"
  },
  "language_info": {
   "codemirror_mode": {
    "name": "ipython",
    "version": 2
   },
   "file_extension": ".py",
   "mimetype": "text/x-python",
   "name": "python",
   "nbconvert_exporter": "python",
   "pygments_lexer": "ipython2",
   "version": "2.7.12"
  }
 },
 "nbformat": 4,
 "nbformat_minor": 0
}
